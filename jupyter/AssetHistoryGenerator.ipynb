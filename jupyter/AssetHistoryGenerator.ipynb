{
 "cells": [
  {
   "cell_type": "markdown",
   "metadata": {},
   "source": [
    "# Asset History Generator"
   ]
  },
  {
   "cell_type": "markdown",
   "metadata": {},
   "source": [
    "### Imports"
   ]
  },
  {
   "cell_type": "code",
   "execution_count": 1,
   "metadata": {},
   "outputs": [],
   "source": [
    "from systemlink.messagebus.message_service import MessageService\n",
    "from systemlink.messagebus.message_service_builder import MessageServiceBuilder\n",
    "from systemlink.messagebus.generic_message import GenericMessage\n",
    "from systemlink.messagebus.message_header import MessageHeader\n",
    "import json\n",
    "import uuid\n",
    "from datetime import datetime, timezone\n",
    "from datetime import timedelta, date\n",
    "import random"
   ]
  },
  {
   "cell_type": "markdown",
   "metadata": {},
   "source": [
    "### Create an AMQP connection"
   ]
  },
  {
   "cell_type": "code",
   "execution_count": 2,
   "metadata": {},
   "outputs": [],
   "source": [
    "message_service_builder = MessageServiceBuilder('AssetHistoryGenerator')\n",
    "message_service = MessageService(message_service_builder)"
   ]
  },
  {
   "cell_type": "markdown",
   "metadata": {},
   "source": [
    "### Define helper functions"
   ]
  },
  {
   "cell_type": "code",
   "execution_count": 3,
   "metadata": {},
   "outputs": [],
   "source": [
    "def start_utilization(system_controller, minion_id, assets, utilization_category='Test', task_name='Testing', username=None, start_date=datetime.utcnow().isoformat()):\n",
    "    #print('Starting utilization...')\n",
    "    header = MessageHeader(\n",
    "        message_name='AssetPerformanceManagementRecordAssetUtilizationStartRequest',\n",
    "        content_type='application/json',\n",
    "        routing_param='AssetPerformanceManagement'\n",
    "    )\n",
    "    body = {\n",
    "        \"startUtilizationRecord\":{\n",
    "            \"utilizationId\":str(uuid.uuid4()),\n",
    "            \"minionId\":minion_id,\n",
    "            \"systemControllerIdentification\":system_controller,\n",
    "            \"assetIdentifications\":assets,\n",
    "            \"utilizationCategory\":utilization_category,\n",
    "            \"taskName\":task_name,\n",
    "            \"userName\":username,\n",
    "            \"utilizationTimestamp\":start_date\n",
    "        }\n",
    "    }\n",
    "\n",
    "    string_body = json.dumps(body)\n",
    "\n",
    "    generic_message = GenericMessage(header=header, body=string_body)\n",
    "    response = message_service.publish_synchronous_message(generic_message)\n",
    "    response_json = json.loads(response.body_bytes)\n",
    "    #display(response_json)\n",
    "    \n",
    "    return body['startUtilizationRecord']['utilizationId']"
   ]
  },
  {
   "cell_type": "code",
   "execution_count": 4,
   "metadata": {},
   "outputs": [],
   "source": [
    "def end_utilization(utilization_id, end_date):\n",
    "    #print('Ending utilization...')\n",
    "    header = MessageHeader(\n",
    "        message_name='AssetPerformanceManagementRecordAssetUtilizationEndRequest',\n",
    "        content_type='application/json',\n",
    "        routing_param='AssetPerformanceManagement'\n",
    "    )\n",
    "    body = {\n",
    "        \"utilizationId\":utilization_id,\n",
    "        \"utilizationTimestamp\":end_date\n",
    "    }\n",
    "\n",
    "    string_body = json.dumps(body)\n",
    "\n",
    "    generic_message = GenericMessage(header=header, body=string_body)\n",
    "    response = message_service.publish_synchronous_message(generic_message)\n",
    "    response_json = json.loads(response.body_bytes)\n",
    "    #display(response_json)\n",
    "    return response_json"
   ]
  },
  {
   "cell_type": "code",
   "execution_count": 5,
   "metadata": {},
   "outputs": [],
   "source": [
    "def query_assets():\n",
    "    header = MessageHeader(\n",
    "        message_name='AssetPerformanceManagementQueryAssetsRequest',\n",
    "        content_type='application/json',\n",
    "        routing_param='AssetPerformanceManagement'\n",
    "    )\n",
    "    body = {\n",
    "    }\n",
    "\n",
    "    string_body = json.dumps(body)\n",
    "\n",
    "    generic_message = GenericMessage(header=header, body=string_body)\n",
    "    response = message_service.publish_synchronous_message(generic_message)\n",
    "    response_json = json.loads(response.body_bytes)\n",
    "    return response_json['assets']"
   ]
  },
  {
   "cell_type": "code",
   "execution_count": 6,
   "metadata": {},
   "outputs": [],
   "source": [
    "def get_system_controller_for_asset(asset, all_assets):\n",
    "    system_name = asset['location']['systemName']\n",
    "    minion_id = asset['location']['minionId']    \n",
    "    for asset_element in all_assets:\n",
    "        if asset_element['name'] == system_name:\n",
    "            system_controller = {\n",
    "                \"modelName\":asset_element['modelName'],\n",
    "                \"modelNumber\":asset_element['modelNumber'],\n",
    "                \"serialNumber\":asset_element['serialNumber'],\n",
    "                \"vendorName\":asset_element['vendorName'],\n",
    "                \"vendorNumber\":asset_element['vendorNumber'],\n",
    "                \"busType\":asset_element['busType']\n",
    "            }\n",
    "            #display(system_controller)\n",
    "            return minion_id, system_controller\n",
    "    return None"
   ]
  },
  {
   "cell_type": "markdown",
   "metadata": {},
   "source": [
    "### Configure the asset utilization generator"
   ]
  },
  {
   "cell_type": "code",
   "execution_count": 7,
   "metadata": {},
   "outputs": [],
   "source": [
    "shifts = [\n",
    "    {\n",
    "        'start_hour':9,\n",
    "        'end_hour':16,\n",
    "        'operators': {\n",
    "            'mvaterla': {'low_utilization_percent':0.60, 'high_utilization_percent': 0.95},\n",
    "            'alweaver': {'low_utilization_percent':0.82, 'high_utilization_percent': 0.89},\n",
    "            'jprewitt': {'low_utilization_percent':0.75, 'high_utilization_percent': 0.88}\n",
    "        }\n",
    "    },\n",
    "    {\n",
    "        'start_hour':17, \n",
    "        'end_hour':23,\n",
    "        'operators': {\n",
    "            'maxb': {'low_utilization_percent':0.21, 'high_utilization_percent': 0.90},\n",
    "            'hmodi': {'low_utilization_percent':0.72, 'high_utilization_percent': 0.86},\n",
    "        }\n",
    "    },\n",
    "    {\n",
    "        'start_hour':0,\n",
    "        'end_hour':8,\n",
    "        'operators': {\n",
    "            'cwaterma': {'low_utilization_percent':0.39, 'high_utilization_percent': 0.99},\n",
    "            'skizunov': {'low_utilization_percent':0.54, 'high_utilization_percent': 0.70},\n",
    "        }\n",
    "    }\n",
    "]\n",
    "\n",
    "utilization_categories = ['Test', 'Debugging', 'Calibration']\n",
    "task_names = ['Testing', 'Calibrating', 'Set Up']\n",
    "\n",
    "#\"2019-09-11T00:43:36.530059Z\"\n",
    "start_date = datetime.strptime('1/1/2019 12:01 AM', '%m/%d/%Y %I:%M %p')\n",
    "end_date = datetime.strptime('9/13/2019 12:59 PM', '%m/%d/%Y %I:%M %p')\n",
    "\n",
    "date_ranges = []\n",
    "start_range = start_date\n",
    "while start_range < end_date:\n",
    "    end_range = datetime(start_range.year, start_range.month, start_range.day) + timedelta(days=1)\n",
    "    if end_range > end_date:\n",
    "        end_range = end_date  \n",
    "\n",
    "    date_ranges.append({'start': start_range, 'end': end_range})\n",
    "    start_range = start_range + timedelta(days=1)\n",
    "#display(date_ranges)"
   ]
  },
  {
   "cell_type": "markdown",
   "metadata": {},
   "source": [
    "### Query assets"
   ]
  },
  {
   "cell_type": "code",
   "execution_count": 12,
   "metadata": {},
   "outputs": [],
   "source": [
    "assets = query_assets()\n",
    "systems = []\n",
    "for asset in assets:\n",
    "    #display(asset)\n",
    "    if asset['busType'] == 'BUILT_IN_SYSTEM' and asset['location']['parent'] == '':\n",
    "        systems.append(\n",
    "            {\n",
    "                'system': asset,\n",
    "                'children': []\n",
    "            }\n",
    "        )"
   ]
  },
  {
   "cell_type": "markdown",
   "metadata": {},
   "source": [
    "### Assign assets to each operator"
   ]
  },
  {
   "cell_type": "code",
   "execution_count": 9,
   "metadata": {},
   "outputs": [],
   "source": [
    "for shift in shifts:\n",
    "    for operator in shift['operators']:\n",
    "        if 'assets' not in shift['operators'][operator]:\n",
    "            shift['operators'][operator]['assets'] = []\n",
    "\n",
    "    for asset in assets:\n",
    "        operators = [operator for operator in shift['operators']]\n",
    "        operator = random.choice(operators)\n",
    "        shift['operators'][operator]['assets'].append(asset)"
   ]
  },
  {
   "cell_type": "markdown",
   "metadata": {},
   "source": [
    "### Build system/asset hierarchy"
   ]
  },
  {
   "cell_type": "code",
   "execution_count": 10,
   "metadata": {},
   "outputs": [
    {
     "name": "stdout",
     "output_type": "stream",
     "text": [
      "--------------SYSTEMS----------------\n",
      "System: PXIChassis1\n",
      "System: NI-cRIO-9068-190D5D5\n",
      "System: RIO0\n",
      "System: NI-cRIO-9068-190D673\n",
      "System: RIO0\n",
      "System: NI-cRIO-9068-190FDF5\n",
      "System: RIO0\n",
      "System: PXIChassis1\n",
      "System: INTEL-NUC-2\n",
      "\tAsset: cDAQ9191-18B4B45Mod1\n",
      "\tAsset: Dev1\n",
      "\tAsset: cDAQ9191-18B4B45\n",
      "\tAsset: Dev2\n",
      "System: INTEL-NUC-1\n",
      "\tAsset: cDAQ1\n",
      "\tAsset: cDAQ1Mod1\n",
      "\tAsset: myDAQ1\n",
      "\tAsset: cDAQ1Mod4\n",
      "\tAsset: cDAQ1Mod2\n",
      "\tAsset: cDAQ1Mod3\n",
      "\tAsset: GPIB0\n",
      "\tAsset: \n",
      "System: jprewitt5\n",
      "\tAsset: cDAQ1\n",
      "\tAsset: cDAQ1Mod1\n",
      "\tAsset: cDAQ1Mod3\n",
      "\tAsset: cDAQ1Mod2\n",
      "\tAsset: Asset 123\n",
      "\tAsset: NI-cRIO-9049-01234567\n",
      "System: NI-cRIO-9049-01234567\n",
      "\tAsset: cRIO1\n",
      "\tAsset: Mod1\n",
      "\tAsset: Mod2\n",
      "\tAsset: Mod4\n",
      "\tAsset: Mod7\n",
      "System: RIO0\n",
      "System: sarlacc\n",
      "System: Cirrostratus\n",
      "System: Chassis 1\n",
      "System: ASW-BGREY\n",
      "System: DESKTOP-2I7QQ8F\n",
      "System: PXIChassis1\n",
      "System: VAT-REPO-VM\n",
      "\tAsset: Module XYZ\n",
      "System: DESKTOP-2H5ROLH\n"
     ]
    }
   ],
   "source": [
    "for asset in assets:\n",
    "    #print('Asset {} with system {}'.format(asset['name'], asset['location']['systemName']))\n",
    "    if asset['busType'] != 'BUILT_IN_SYSTEM' and asset['location']['systemName'] != '':\n",
    "        for system in systems:\n",
    "            #print('{} ?= {}'.format(asset['location']['systemName'], system['system']['name']))\n",
    "            if asset['location']['systemName'] == system['system']['name']:\n",
    "                system['children'].append(asset)\n",
    "        \n",
    "print('--------------SYSTEMS----------------')\n",
    "for system in systems:\n",
    "    print('System: {}'.format(system['system']['name']))\n",
    "    for child in system['children']:\n",
    "        print('\\tAsset: {}'.format(child['name']))"
   ]
  },
  {
   "cell_type": "markdown",
   "metadata": {},
   "source": [
    "### Generate asset utilization history"
   ]
  },
  {
   "cell_type": "code",
   "execution_count": 11,
   "metadata": {},
   "outputs": [],
   "source": [
    "def shift_in_range(shift, start_range, end_range):\n",
    "    shift_start = datetime(start_range.year, start_range.month, start_range.day, shift['start_hour'])\n",
    "    shift_end = shift_start + timedelta(hours=8)\n",
    "    if (shift_start >= start_range and shift_end <= end_range):\n",
    "        return {'start': shift_start, 'end': shift_end}\n",
    "    return None\n",
    "\n",
    "for date_range in date_ranges:\n",
    "    for shift in shifts:\n",
    "        shift_range = shift_in_range(shift, date_range['start'], date_range['end'])\n",
    "        if shift_range is not None:\n",
    "            for operator_name in shift['operators']:\n",
    "                low_utilization_percent = shift['operators'][operator_name]['low_utilization_percent']\n",
    "                high_utilization_percent = shift['operators'][operator_name]['high_utilization_percent']\n",
    "                random_utilization_percent = (random.random() * (high_utilization_percent-low_utilization_percent)) + low_utilization_percent\n",
    "                for asset in shift['operators'][operator_name]['assets']:\n",
    "                    minion_id, system_controller = get_system_controller_for_asset(asset, assets)\n",
    "                    utilization_id = start_utilization(\n",
    "                        system_controller=system_controller,\n",
    "                        minion_id=minion_id,\n",
    "                        assets=[asset],\n",
    "                        utilization_category=random.choice(utilization_categories),\n",
    "                        task_name=random.choice(task_names),\n",
    "                        username=operator_name,\n",
    "                        start_date=shift_range['start'].isoformat()+'Z'\n",
    "                    )\n",
    "                    random_utilization_shift_end = datetime(shift_range['start'].year, shift_range['start'].month, shift_range['start'].day, shift_range['start'].hour) + timedelta(seconds=((shift_range['end'] - shift_range['start']).total_seconds() * random_utilization_percent))\n",
    "                    end_utilization(utilization_id, end_date=random_utilization_shift_end.isoformat()+'Z')"
   ]
  },
  {
   "cell_type": "code",
   "execution_count": null,
   "metadata": {},
   "outputs": [],
   "source": []
  }
 ],
 "metadata": {
  "kernelspec": {
   "display_name": "Python 3",
   "language": "python",
   "name": "python3"
  },
  "language_info": {
   "codemirror_mode": {
    "name": "ipython",
    "version": 3
   },
   "file_extension": ".py",
   "mimetype": "text/x-python",
   "name": "python",
   "nbconvert_exporter": "python",
   "pygments_lexer": "ipython3",
   "version": "3.7.4"
  }
 },
 "nbformat": 4,
 "nbformat_minor": 4
}
