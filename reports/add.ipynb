{
 "cells": [
  {
   "cell_type": "markdown",
   "metadata": {},
   "source": [
    "### Imports\n",
    "Import Python modules for executing the notebook. Pandas is used for building and handling dataframes. Scrapbook is used for recording data for the Notebook Execution Service."
   ]
  },
  {
   "cell_type": "code",
   "execution_count": 6,
   "metadata": {},
   "outputs": [],
   "source": [
    "import pandas as pd\n",
    "import scrapbook as sb\n",
    "import math"
   ]
  },
  {
   "cell_type": "markdown",
   "metadata": {},
   "source": [
    "### Parameters\n",
    "Parameters are also listed in the metadata for the parameters cell, along with their default values. The Notebook Execution services uses that metadata to pass parameters from the Reports page to this notebook. \n",
    "\n",
    "To see the metadata, select the code cell and click the wrench icon in the far left panel."
   ]
  },
  {
   "cell_type": "code",
   "execution_count": 7,
   "metadata": {
    "papermill": {
     "parameters": {
      "array1": [
       1,
       2,
       3
      ],
      "array2": [
       4,
       5,
       6
      ]
     }
    },
    "systemlink": {
     "namespaces": [
      "ni-analytics"
     ]
    },
    "tags": [
     "parameters"
    ]
   },
   "outputs": [],
   "source": [
    "# Default parameters Go here\n",
    "array1 = [1,2,3]\n",
    "array2 = [4,5,6]"
   ]
  },
  {
   "cell_type": "code",
   "execution_count": 8,
   "metadata": {},
   "outputs": [
    {
     "data": {
      "text/plain": [
       "[5, 7, 9]"
      ]
     },
     "metadata": {},
     "output_type": "display_data"
    }
   ],
   "source": [
    "result = [] \n",
    "for i in range(0, len(array1)): \n",
    "    result.append(array1[i] + array2[i]) \n",
    "    \n",
    "display (result)"
   ]
  },
  {
   "cell_type": "markdown",
   "metadata": {},
   "source": [
    "### Record results with Scrapbook\n",
    "For optimal parsing by the Test Monitor Reports page, results should include\n",
    "- `title`: The title of the result graph\n",
    "- `axis_labels`: The x-axis label and y-axis label\n",
    "- `tick_labels`: Labels for the ticks along the x-axis\n",
    "- `orientation`: 'HORIZONTAL' or 'VERTICAL'\n",
    "- `result_type`: The type of data returned by the notebook ('DEFAULT' is the only option supported by the Test Monitor Reports page; it represents graph data)\n",
    "- `result`: The calculated failure rate data"
   ]
  },
  {
   "cell_type": "code",
   "execution_count": 19,
   "metadata": {},
   "outputs": [
    {
     "data": {
      "application/scrapbook.scrap.text+json": {
       "data": "Add Example",
       "encoder": "text",
       "name": "title",
       "version": 1
      }
     },
     "metadata": {
      "scrapbook": {
       "data": true,
       "display": false,
       "name": "title"
      }
     },
     "output_type": "display_data"
    },
    {
     "data": {
      "application/scrapbook.scrap.json+json": {
       "data": [
        "x_label",
        "y_label"
       ],
       "encoder": "json",
       "name": "axis_labels",
       "version": 1
      }
     },
     "metadata": {
      "scrapbook": {
       "data": true,
       "display": false,
       "name": "axis_labels"
      }
     },
     "output_type": "display_data"
    },
    {
     "data": {
      "application/scrapbook.scrap.text+json": {
       "data": "VERTICAL",
       "encoder": "text",
       "name": "orientation",
       "version": 1
      }
     },
     "metadata": {
      "scrapbook": {
       "data": true,
       "display": false,
       "name": "orientation"
      }
     },
     "output_type": "display_data"
    },
    {
     "data": {
      "application/scrapbook.scrap.text+json": {
       "data": "DEFAULT",
       "encoder": "text",
       "name": "result_type",
       "version": 1
      }
     },
     "metadata": {
      "scrapbook": {
       "data": true,
       "display": false,
       "name": "result_type"
      }
     },
     "output_type": "display_data"
    },
    {
     "data": {
      "application/scrapbook.scrap.json+json": {
       "data": [
        {
         "data_format": "XY",
         "data_frame": {
          "data": [
           [
            1,
            2,
            3
           ],
           [
            5,
            7,
            9
           ]
          ]
         },
         "plot_style": "BAR"
        }
       ],
       "encoder": "json",
       "name": "result",
       "version": 1
      }
     },
     "metadata": {
      "scrapbook": {
       "data": true,
       "display": false,
       "name": "result"
      }
     },
     "output_type": "display_data"
    },
    {
     "data": {
      "text/plain": [
       "[{'plot_style': 'BAR',\n",
       "  'data_format': 'XY',\n",
       "  'data_frame': {'data': [[1, 2, 3], [5, 7, 9]]}}]"
      ]
     },
     "metadata": {},
     "output_type": "display_data"
    }
   ],
   "source": [
    "report_result_data = []\n",
    "\n",
    "report_result_data = [{\n",
    "    'plot_style': 'BAR',\n",
    "    'data_format': 'XY',\n",
    "    'data_frame': {\n",
    "        'data': [list([1,2,3]),result]\n",
    "    }\n",
    "}]\n",
    "\n",
    "sb.glue('title', 'Add Example')\n",
    "sb.glue('axis_labels', ['x_label', 'y_label'])\n",
    "sb.glue('orientation', 'VERTICAL')\n",
    "sb.glue('result_type', 'DEFAULT')\n",
    "sb.glue('result', report_result_data)\n",
    "\n",
    "display (report_result_data)"
   ]
  },
  {
   "cell_type": "code",
   "execution_count": null,
   "metadata": {},
   "outputs": [],
   "source": []
  }
 ],
 "metadata": {
  "kernelspec": {
   "display_name": "Python 3",
   "language": "python",
   "name": "python3"
  },
  "language_info": {
   "codemirror_mode": {
    "name": "ipython",
    "version": 3
   },
   "file_extension": ".py",
   "mimetype": "text/x-python",
   "name": "python",
   "nbconvert_exporter": "python",
   "pygments_lexer": "ipython3",
   "version": "3.7.4"
  }
 },
 "nbformat": 4,
 "nbformat_minor": 4
}
